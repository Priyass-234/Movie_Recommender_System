{
 "cells": [
  {
   "cell_type": "raw",
   "id": "7ad0bbbe-b6cc-463c-9f87-143b483bb719",
   "metadata": {},
   "source": [
    "import numpy as np\n",
    "import pandas as pd"
   ]
  },
  {
   "cell_type": "raw",
   "id": "6a514d39-ee31-4d1e-a521-f8b1156d7ad1",
   "metadata": {},
   "source": [
    "movies=pd.read_csv('tmdb_5000_movies.csv')\n",
    "credits=pd.read_csv('tmdb_5000_credits.csv')"
   ]
  },
  {
   "cell_type": "raw",
   "id": "5b010700-b9b4-4698-891b-92073cced0ce",
   "metadata": {},
   "source": [
    "movies.head(1)"
   ]
  },
  {
   "cell_type": "raw",
   "id": "2db959e0-d63e-482f-8be2-ce0e8ea89700",
   "metadata": {},
   "source": [
    "credits.head()"
   ]
  },
  {
   "cell_type": "raw",
   "id": "a89b30ac-7d49-49ff-80ec-1cf670cabd71",
   "metadata": {},
   "source": [
    "movies = movies.merge(credits,on='title')"
   ]
  },
  {
   "cell_type": "raw",
   "id": "9dcc3ce7-9e21-46a3-ad51-350ec125807d",
   "metadata": {},
   "source": [
    "movies.head(1)"
   ]
  },
  {
   "cell_type": "raw",
   "id": "6736ff35-adfd-41d4-a408-47aacdbe915a",
   "metadata": {},
   "source": [
    "movies.info()"
   ]
  },
  {
   "cell_type": "raw",
   "id": "969e8671-07fb-4995-b549-a828d2734b1e",
   "metadata": {},
   "source": [
    "movies= movies[['movie_id','title','overview','genres','keywords','cast','crew']]"
   ]
  },
  {
   "cell_type": "raw",
   "id": "2fe4c66d-a6f0-4bb1-9a61-3b9bc83625a2",
   "metadata": {},
   "source": [
    "movies.head()"
   ]
  },
  {
   "cell_type": "raw",
   "id": "e3e9bcc4-2d3b-4f5a-bd1b-3c2eade2bb91",
   "metadata": {},
   "source": [
    "movies.isnull().sum()"
   ]
  },
  {
   "cell_type": "raw",
   "id": "4e64b141-504c-4c74-a347-d3a3174ca839",
   "metadata": {},
   "source": [
    "movies.dropna(inplace=True)"
   ]
  },
  {
   "cell_type": "raw",
   "id": "c0a2e3d1-06b6-4a21-b693-2589b895854f",
   "metadata": {},
   "source": [
    "movies.duplicated().sum()"
   ]
  },
  {
   "cell_type": "raw",
   "id": "348fa577-2ec3-4b2f-8d0c-8c79beec8ca6",
   "metadata": {},
   "source": [
    "movies.iloc[0].genres"
   ]
  },
  {
   "cell_type": "raw",
   "id": "385f0f7d-7485-41a6-9a5f-8858e1cd9a87",
   "metadata": {},
   "source": [
    "import ast"
   ]
  },
  {
   "cell_type": "raw",
   "id": "adee1de7-084e-47d3-9db1-7a6aa1d112ce",
   "metadata": {},
   "source": [
    "#[{\"id\": 28, \"name\": \"Action\"}, {\"id\": 12, \"name\": \"Adventure\"}, {\"id\": 14, \"name\": \"Fantasy\"}, {\"id\": 878, \"name\": \"Science Fiction\"}]'\n",
    "# we need to simplify the genres in this format  [\"Action\",\"Adventure\", \"Fantasy\", \"Science Fiction\"]\n",
    "def convert(text):\n",
    "    L = []\n",
    "    for i in ast.literal_eval(text):\n",
    "        L.append(i['name']) \n",
    "    return L \n",
    "    \n",
    "    "
   ]
  },
  {
   "cell_type": "raw",
   "id": "b6792486-d946-4d98-9ba0-94c346f8f125",
   "metadata": {},
   "source": [
    "movies.dropna(inplace=True)"
   ]
  },
  {
   "cell_type": "raw",
   "id": "3d36bc97-740d-40c8-b430-a7d755aeb378",
   "metadata": {},
   "source": [
    "movies['genres'] = movies['genres'].apply(convert)"
   ]
  },
  {
   "cell_type": "raw",
   "id": "f426530f-b3ab-44ab-83a0-172341671c7e",
   "metadata": {},
   "source": [
    "movies.head()"
   ]
  },
  {
   "cell_type": "raw",
   "id": "3dffcda0-25d5-437f-90a1-e9d2bf2bbd1f",
   "metadata": {},
   "source": [
    "movies['keywords'] = movies['keywords'].apply(convert)"
   ]
  },
  {
   "cell_type": "raw",
   "id": "2d215eba-bf17-429c-bccf-8e5ab923c6c8",
   "metadata": {},
   "source": [
    "movies.head()"
   ]
  },
  {
   "cell_type": "raw",
   "id": "2e796a8c-cf6a-4432-a2f3-0e304f13efef",
   "metadata": {},
   "source": [
    "def convert3(obj):\n",
    "    L=[]\n",
    "    counter=0\n",
    "    for i in ast.literal_eval(obj):\n",
    "        if counter!=3:\n",
    "            L.append(i['name'])\n",
    "            counter+=1\n",
    "        else:\n",
    "            break\n",
    "    return L"
   ]
  },
  {
   "cell_type": "raw",
   "id": "1f5dbc59-bb57-4661-be3f-4eee0aa4edf3",
   "metadata": {},
   "source": [
    "movies['cast'] = movies['cast'].apply(convert3)"
   ]
  },
  {
   "cell_type": "raw",
   "id": "05d8f307-04e2-4081-b343-17a2694068a0",
   "metadata": {},
   "source": [
    "movies.head()"
   ]
  },
  {
   "cell_type": "raw",
   "id": "0e14da40-ef83-4b57-b853-a24280191427",
   "metadata": {},
   "source": [
    "movies['crew'][0]"
   ]
  },
  {
   "cell_type": "raw",
   "id": "68ec529a-dac4-4861-86bc-4f23e2568616",
   "metadata": {},
   "source": [
    "#we only wants to fecth the dictionary where the job value is director\n",
    "def fetch_director(obj):\n",
    "    L = []\n",
    "    for i in ast.literal_eval(obj):\n",
    "        if i['job']=='Director':\n",
    "            L.append(i['name']) \n",
    "    return L "
   ]
  },
  {
   "cell_type": "raw",
   "id": "85bfdc0f-cc4f-4835-ae0c-51dea5808495",
   "metadata": {},
   "source": [
    "movies['crew']=movies['crew'].apply(fetch_director)"
   ]
  },
  {
   "cell_type": "raw",
   "id": "5776d4b9-abd7-4348-9401-46eac22bb901",
   "metadata": {},
   "source": [
    "movies.head()"
   ]
  },
  {
   "cell_type": "raw",
   "id": "60242c53-fe38-4712-a38f-b2a5fd97988e",
   "metadata": {},
   "source": [
    "#Sam Worthington and Sam Mendes model will get confused which sam to be reffered\n",
    "# so we will combine the names as single entity EX- SamMendes\n",
    "movies['genres'] = movies['genres'].apply(lambda x:[i.replace(\" \",\"\")for i in x])\n",
    "movies['keywords'] = movies['keywords'].apply(lambda x:[i.replace(\" \",\"\")for i in x])\n",
    "movies['cast'] = movies['cast'].apply(lambda x:[i.replace(\" \",\"\")for i in x])\n",
    "movies['crew'] = movies['crew'].apply(lambda x:[i.replace(\" \",\"\")for i in x])"
   ]
  },
  {
   "cell_type": "raw",
   "id": "48482717-0f4b-4708-a2d2-b8901df1d124",
   "metadata": {},
   "source": [
    "movies['overview'] = movies['overview'].apply(lambda x:x.split())"
   ]
  },
  {
   "cell_type": "raw",
   "id": "c03bc7bd-0b55-461b-910e-6d32e87f7d17",
   "metadata": {},
   "source": [
    "\n",
    "#lets make a new column tags and cancatenate all the columns together in it\n",
    "movies['tags'] = movies['overview'] + movies['genres'] + movies['keywords'] + movies['cast'] + movies['crew']\n"
   ]
  },
  {
   "cell_type": "raw",
   "id": "f1136790-5bd1-4299-98eb-2cb665b41ee8",
   "metadata": {},
   "source": [
    "movies.head()"
   ]
  },
  {
   "cell_type": "raw",
   "id": "59156f8e-5d91-44ae-9057-33b65ffb05e0",
   "metadata": {},
   "source": [
    "new = movies.drop(columns=['overview','genres','keywords','cast','crew'])\n",
    "new.head()"
   ]
  },
  {
   "cell_type": "raw",
   "id": "d506dd59-3d04-4167-aeb2-41c3518a6ef8",
   "metadata": {},
   "source": [
    "new_df = movies[['movie_id','title','tags']]"
   ]
  },
  {
   "cell_type": "raw",
   "id": "02bca362-5549-47d6-a980-7316569e779f",
   "metadata": {},
   "source": [
    "#coverting tags list into string\n",
    "new_df['tags'] = new_df['tags'].apply(lambda x: \" \".join(x))\n",
    "new_df.head()"
   ]
  },
  {
   "cell_type": "raw",
   "id": "e4be10a4-cc75-48f5-aa48-a1a07f0472be",
   "metadata": {},
   "source": [
    "new_df['tags'][0]"
   ]
  },
  {
   "cell_type": "raw",
   "id": "6188c28c-73c0-4b11-840c-05f34420ff5b",
   "metadata": {},
   "source": [
    "new_df['tags']=new_df['tags'].apply(lambda x: x.lower())\n",
    "new_df.head()"
   ]
  },
  {
   "cell_type": "raw",
   "id": "40950d7f-716e-403f-b948-9077f15bf2ea",
   "metadata": {},
   "source": [
    "from sklearn.feature_extraction.text import CountVectorizer\n",
    "cv = CountVectorizer(max_features=5000,stop_words='english')\n",
    "    "
   ]
  },
  {
   "cell_type": "raw",
   "id": "51882832-c1e9-4380-ad7f-87a3e4196747",
   "metadata": {},
   "source": [
    "vectors = cv.fit_transform(new_df['tags']).toarray()"
   ]
  },
  {
   "cell_type": "raw",
   "id": "75f56013-dbb2-4598-8f4d-a895dfa9403f",
   "metadata": {},
   "source": [
    "vectors[0]"
   ]
  },
  {
   "cell_type": "raw",
   "id": "60497240-6810-4996-aa84-652730f7c54c",
   "metadata": {},
   "source": [
    "cv.get_feature_names_out()"
   ]
  },
  {
   "cell_type": "raw",
   "id": "05c1afa4-f3af-4258-a11b-9e552fe6149c",
   "metadata": {},
   "source": [
    "import nltk\n"
   ]
  },
  {
   "cell_type": "raw",
   "id": "03d23e85-2fb4-4305-8b6c-fd1547d47527",
   "metadata": {},
   "source": [
    "from nltk.stem import PorterStemmer\n",
    "ps = PorterStemmer()\n"
   ]
  },
  {
   "cell_type": "raw",
   "id": "39943b85-eefc-407d-8e93-137f566d2b09",
   "metadata": {},
   "source": [
    "def stem(text):\n",
    "    y = []\n",
    "    for i in text.split():\n",
    "        y.append(ps.stem(i))\n",
    "    return \" \".join(y)"
   ]
  },
  {
   "cell_type": "raw",
   "id": "dd4daa1b-d4f6-4922-8a0f-c2dfda1a4848",
   "metadata": {},
   "source": [
    "new_df['tags'] = new_df['tags'].apply(stem)"
   ]
  },
  {
   "cell_type": "raw",
   "id": "34674415-ff5d-42a7-af32-a2fc2fef29c1",
   "metadata": {},
   "source": [
    "from sklearn.metrics.pairwise import cosine_similarity"
   ]
  },
  {
   "cell_type": "raw",
   "id": "454ba628-1f01-43f6-92ed-9b154a25ac81",
   "metadata": {},
   "source": [
    "similarity = cosine_similarity(vectors)"
   ]
  },
  {
   "cell_type": "raw",
   "id": "4e7cb51c-cafc-466b-8236-2ee43587dae6",
   "metadata": {},
   "source": [
    "similarity"
   ]
  },
  {
   "cell_type": "raw",
   "id": "3fd67a9e-eae7-45b0-8474-df28a9905828",
   "metadata": {},
   "source": [
    "#to fecth the index of the movies\n",
    "new[new['title'] == 'The Lego Movie'].index[0]"
   ]
  },
  {
   "cell_type": "raw",
   "id": "f44e3ff2-7220-41e3-b240-acf422b6fe15",
   "metadata": {},
   "source": [
    "def recommend(movie):\n",
    "    index = new[new['title'] == movie].index[0]\n",
    "    distances = sorted(list(enumerate(similarity[index])),reverse=True,key = lambda x: x[1])\n",
    "    for i in distances[1:6]:\n",
    "        print(new.iloc[i[0]].title)\n",
    "        \n",
    "    "
   ]
  },
  {
   "cell_type": "raw",
   "id": "127c9ab4-c734-41f3-83ce-4718af088a10",
   "metadata": {},
   "source": [
    "recommend('Batman')"
   ]
  },
  {
   "cell_type": "raw",
   "id": "024563b2-e48d-41cd-98f9-b68e29d7a2ce",
   "metadata": {},
   "source": [
    "import pickle\n"
   ]
  },
  {
   "cell_type": "raw",
   "id": "25387fbf-4b4f-4056-9771-1fd6473e45bd",
   "metadata": {},
   "source": [
    "pickle.dump(new,open('movie_list.pkl','wb'))\n",
    "\n",
    "\n",
    " "
   ]
  },
  {
   "cell_type": "raw",
   "id": "4cb8b8bd-9d94-4d4c-9f5c-6d48be20f37e",
   "metadata": {},
   "source": [
    "pickle.dump(similarity,open('similarity.pkl','wb'))"
   ]
  },
  {
   "cell_type": "raw",
   "id": "b178113a-c0a9-45e8-b1e4-a8b6c05ccdc6",
   "metadata": {},
   "source": []
  },
  {
   "cell_type": "code",
   "execution_count": null,
   "id": "8b31d281-4a0e-4ca0-84cb-3287b238322d",
   "metadata": {},
   "outputs": [],
   "source": []
  }
 ],
 "metadata": {
  "kernelspec": {
   "display_name": "Python 3 (ipykernel)",
   "language": "python",
   "name": "python3"
  },
  "language_info": {
   "codemirror_mode": {
    "name": "ipython",
    "version": 3
   },
   "file_extension": ".py",
   "mimetype": "text/x-python",
   "name": "python",
   "nbconvert_exporter": "python",
   "pygments_lexer": "ipython3",
   "version": "3.12.4"
  }
 },
 "nbformat": 4,
 "nbformat_minor": 5
}
